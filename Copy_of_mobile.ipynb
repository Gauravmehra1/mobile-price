{
  "nbformat": 4,
  "nbformat_minor": 0,
  "metadata": {
    "colab": {
      "private_outputs": true,
      "provenance": [],
      "collapsed_sections": [
        "vncDsAP0Gaoa",
        "beRrZCGUAJYm",
        "FJNUwmbgGyua",
        "w6K7xa23Elo4",
        "yQaldy8SH6Dl",
        "mDgbUHAGgjLW",
        "HhfV-JJviCcP",
        "Y3lxredqlCYt",
        "3RnN4peoiCZX",
        "x71ZqKXriCWQ",
        "7hBIi_osiCS2",
        "JlHwYmJAmNHm",
        "35m5QtbWiB9F",
        "PoPl-ycgm1ru",
        "H0kj-8xxnORC",
        "nA9Y7ga8ng1Z",
        "PBTbrJXOngz2",
        "u3PMJOP6ngxN",
        "bKJF3rekwFvQ",
        "K5QZ13OEpz2H",
        "lQ7QKXXCp7Bj",
        "448CDAPjqfQr",
        "KSlN3yHqYklG",
        "t6dVpIINYklI",
        "EM7whBJCYoAo",
        "4Of9eVA-YrdM",
        "CPpa39AbxiQ4",
        "OH-pJp9IphqM",
        "bbFf2-_FphqN",
        "_ouA3fa0phqN",
        "Seke61FWphqN",
        "PIIx-8_IphqN",
        "NC_X3p0fY2L0",
        "UV0SzAkaZNRQ",
        "iN2uPJRJeP5w",
        "PSEOmJoleXWy",
        "Dn41CsDHfExS",
        "P7ylIEn6fSrz",
        "CTgW4PSjfSog",
        "hxZdYM2dgr4W",
        "9sFtm6f14zr4",
        "gIfDvo9L0UH2"
      ],
      "include_colab_link": true
    },
    "kernelspec": {
      "name": "python3",
      "display_name": "Python 3"
    },
    "language_info": {
      "name": "python"
    }
  },
  "cells": [
    {
      "cell_type": "markdown",
      "metadata": {
        "id": "view-in-github",
        "colab_type": "text"
      },
      "source": [
        "<a href=\"https://colab.research.google.com/github/Gauravmehra1/mobile-price/blob/main/Copy_of_mobile.ipynb\" target=\"_parent\"><img src=\"https://colab.research.google.com/assets/colab-badge.svg\" alt=\"Open In Colab\"/></a>"
      ]
    },
    {
      "cell_type": "markdown",
      "source": [
        "# **Project Name**    - \n",
        "\n"
      ],
      "metadata": {
        "id": "vncDsAP0Gaoa"
      }
    },
    {
      "cell_type": "markdown",
      "source": [
        "##### **Project Type**    - EDA/Regression/Classification/Unsupervised\n",
        "##### **Contribution**    - Individual\n",
        "##### **Name**            - Gaurav Mehra\n"
      ],
      "metadata": {
        "id": "beRrZCGUAJYm"
      }
    },
    {
      "cell_type": "markdown",
      "source": [
        "# **Project Summary -**"
      ],
      "metadata": {
        "id": "FJNUwmbgGyua"
      }
    },
    {
      "cell_type": "markdown",
      "source": [
        "In the competative mobile phone market companies want to undersatand sales data of mobile phones and factors which drive the prices. The objective is to find out some relation  between features of a mobile phones (eg:- RAM, internal memory ,etc) and its salling price. In this problem , we dont have to predict the actual price but a price range indicating how high the price is. "
      ],
      "metadata": {
        "id": "F6v_1wHtG2nS"
      }
    },
    {
      "cell_type": "markdown",
      "source": [
        "# **GitHub Link -**"
      ],
      "metadata": {
        "id": "w6K7xa23Elo4"
      }
    },
    {
      "cell_type": "markdown",
      "source": [
        " GitHub Link - https://github.com/Gauravmehra1/mobile-price"
      ],
      "metadata": {
        "id": "h1o69JH3Eqqn"
      }
    },
    {
      "cell_type": "markdown",
      "source": [
        "# **Problem Statement**\n"
      ],
      "metadata": {
        "id": "yQaldy8SH6Dl"
      }
    },
    {
      "cell_type": "markdown",
      "source": [
        "This project will classify the price range of moblie price the price range from 0-3.We will discuss the price range in the data set. its a classification problem. Now i have to train a mobile classification using 3 Machine learning algorithms.The model classifies the range of the mobile based on the different parameters like from camera, touch screen , cores, battery, clock speed, internal memory, battery capacity etc. After tranning the model use 3 algorithms, I compare all the models using graphs."
      ],
      "metadata": {
        "id": "DpeJGUA3kjGy"
      }
    },
    {
      "cell_type": "markdown",
      "source": [
        "# **General Guidelines** : -  "
      ],
      "metadata": {
        "id": "mDgbUHAGgjLW"
      }
    },
    {
      "cell_type": "markdown",
      "source": [
        "1.   Well-structured, formatted, and commented code is required. \n",
        "2.   Exception Handling, Production Grade Code & Deployment Ready Code will be a plus. Those students will be awarded some additional credits. \n",
        "     \n",
        "     The additional credits will have advantages over other students during Star Student selection.\n",
        "       \n",
        "             [ Note: - Deployment Ready Code is defined as, the whole .ipynb notebook should be executable in one go\n",
        "                       without a single error logged. ]\n",
        "\n",
        "3.   Each and every logic should have proper comments.\n",
        "4. You may add as many number of charts you want. Make Sure for each and every chart the following format should be answered.\n",
        "        \n",
        "\n",
        "```\n",
        "# Chart visualization code\n",
        "```\n",
        "            \n",
        "\n",
        "*   Why did you pick the specific chart?\n",
        "*   What is/are the insight(s) found from the chart?\n",
        "* Will the gained insights help creating a positive business impact? \n",
        "Are there any insights that lead to negative growth? Justify with specific reason.\n",
        "\n",
        "5. You have to create at least 15 logical & meaningful charts having important insights.\n",
        "\n",
        "\n",
        "[ Hints : - Do the Vizualization in  a structured way while following \"UBM\" Rule. \n",
        "\n",
        "U - Univariate Analysis,\n",
        "\n",
        "B - Bivariate Analysis (Numerical - Categorical, Numerical - Numerical, Categorical - Categorical)\n",
        "\n",
        "M - Multivariate Analysis\n",
        " ]\n",
        "\n",
        "\n",
        "\n",
        "\n",
        "\n",
        "6. You may add more ml algorithms for model creation. Make sure for each and every algorithm, the following format should be answered.\n",
        "\n",
        "\n",
        "*   Explain the ML Model used and it's performance using Evaluation metric Score Chart.\n",
        "\n",
        "\n",
        "*   Cross- Validation & Hyperparameter Tuning\n",
        "\n",
        "*   Have you seen any improvement? Note down the improvement with updates Evaluation metric Score Chart.\n",
        "\n",
        "*   Explain each evaluation metric's indication towards business and the business impact pf the ML model used.\n",
        "\n",
        "\n",
        "\n",
        "\n",
        "\n",
        "\n",
        "\n",
        "\n",
        "\n",
        "\n",
        "\n",
        "\n",
        "\n",
        "\n",
        "\n",
        "\n",
        "\n",
        "\n"
      ],
      "metadata": {
        "id": "ZrxVaUj-hHfC"
      }
    },
    {
      "cell_type": "markdown",
      "source": [
        "# ***Let's Begin !***"
      ],
      "metadata": {
        "id": "O_i_v8NEhb9l"
      }
    },
    {
      "cell_type": "markdown",
      "source": [
        "## ***1. Know Your Data***"
      ],
      "metadata": {
        "id": "HhfV-JJviCcP"
      }
    },
    {
      "cell_type": "markdown",
      "source": [
        "### Import Libraries"
      ],
      "metadata": {
        "id": "Y3lxredqlCYt"
      }
    },
    {
      "cell_type": "code",
      "source": [
        "# Import Libraries\n",
        "import pandas as pd\n",
        "import numpy as np\n",
        "import matplotlib.pyplot as plt\n",
        "%matplotlib inline\n",
        "import seaborn as sns\n",
        "\n",
        "from sklearn.feature_selection import SelectKBest\n",
        "from sklearn.feature_selection import chi2\n",
        "from sklearn.model_selection import train_test_split\n",
        "from sklearn.preprocessing import StandardScaler\n",
        "from sklearn.tree import DecisionTreeClassifier\n",
        "from sklearn.metrics import accuracy_score, confusion_matrix , classification_report \n",
        "\n",
        "from sklearn.tree import DecisionTreeClassifier, export_graphviz\n",
        "from sklearn import tree\n",
        "from IPython.display import SVG\n",
        "from graphviz import Source\n",
        "from IPython.display import display\n",
        "from sklearn.ensemble import RandomForestClassifier\n",
        "from sklearn.model_selection import GridSearchCV\n",
        "\n",
        "from sklearn.ensemble import GradientBoostingClassifier\n",
        "from xgboost.sklearn import XGBClassifier\n",
        "from sklearn.neighbors import KNeighborsClassifier\n",
        "\n"
      ],
      "metadata": {
        "id": "M8Vqi-pPk-HR"
      },
      "execution_count": null,
      "outputs": []
    },
    {
      "cell_type": "markdown",
      "source": [
        "### Dataset Loading"
      ],
      "metadata": {
        "id": "3RnN4peoiCZX"
      }
    },
    {
      "cell_type": "code",
      "source": [
        "# Load Dataset\n",
        "from google.colab import drive\n",
        "drive.mount('/content/drive/')"
      ],
      "metadata": {
        "id": "4CkvbW_SlZ_R"
      },
      "execution_count": null,
      "outputs": []
    },
    {
      "cell_type": "code",
      "source": [
        "File='/content/drive/My Drive/EDA/mobilepricerange.csv'\n",
        "df=pd.read_csv(File)"
      ],
      "metadata": {
        "id": "njmVUz6iUvZx"
      },
      "execution_count": null,
      "outputs": []
    },
    {
      "cell_type": "markdown",
      "source": [
        "### Dataset First View"
      ],
      "metadata": {
        "id": "x71ZqKXriCWQ"
      }
    },
    {
      "cell_type": "code",
      "source": [
        "# Dataset First Look\n",
        "df.head()"
      ],
      "metadata": {
        "id": "LWNFOSvLl09H"
      },
      "execution_count": null,
      "outputs": []
    },
    {
      "cell_type": "markdown",
      "source": [
        "### Dataset Rows & Columns count"
      ],
      "metadata": {
        "id": "7hBIi_osiCS2"
      }
    },
    {
      "cell_type": "code",
      "source": [
        "# Dataset Rows & Columns count\n",
        "df.shape"
      ],
      "metadata": {
        "id": "Kllu7SJgmLij"
      },
      "execution_count": null,
      "outputs": []
    },
    {
      "cell_type": "markdown",
      "source": [
        "### Dataset Information"
      ],
      "metadata": {
        "id": "JlHwYmJAmNHm"
      }
    },
    {
      "cell_type": "code",
      "source": [
        "# Dataset Info\n",
        "df.info()"
      ],
      "metadata": {
        "id": "e9hRXRi6meOf"
      },
      "execution_count": null,
      "outputs": []
    },
    {
      "cell_type": "markdown",
      "source": [
        "#### Duplicate Values"
      ],
      "metadata": {
        "id": "35m5QtbWiB9F"
      }
    },
    {
      "cell_type": "code",
      "source": [
        "# Dataset Duplicate Value Count\n",
        "df.duplicated().sum()"
      ],
      "metadata": {
        "id": "1sLdpKYkmox0"
      },
      "execution_count": null,
      "outputs": []
    },
    {
      "cell_type": "markdown",
      "source": [
        "#### Missing Values/Null Values"
      ],
      "metadata": {
        "id": "PoPl-ycgm1ru"
      }
    },
    {
      "cell_type": "code",
      "source": [
        "# Missing Values/Null Values Count\n",
        "df.isnull().sum()"
      ],
      "metadata": {
        "id": "GgHWkxvamxVg"
      },
      "execution_count": null,
      "outputs": []
    },
    {
      "cell_type": "markdown",
      "source": [
        "### What did you know about your dataset?"
      ],
      "metadata": {
        "id": "H0kj-8xxnORC"
      }
    },
    {
      "cell_type": "markdown",
      "source": [
        "\n",
        "\n",
        "* The dataset has 21 features and 2,000 rows in total.\n",
        "*The last column is given the target variable to work our models up on.\n",
        "*There is no data in any datatype except float and integer.\n",
        "*This dataset contains a mix of categorical, continuous and discrete data.\n",
        "*All the categorical variables are pre-encoded which saves a lot of our time.\n",
        "\n"
      ],
      "metadata": {
        "id": "gfoNAAC-nUe_"
      }
    },
    {
      "cell_type": "markdown",
      "source": [
        "## ***2. Understanding Your Variables***"
      ],
      "metadata": {
        "id": "nA9Y7ga8ng1Z"
      }
    },
    {
      "cell_type": "code",
      "source": [
        "# Dataset Columns\n",
        "df.columns"
      ],
      "metadata": {
        "id": "j7xfkqrt5Ag5"
      },
      "execution_count": null,
      "outputs": []
    },
    {
      "cell_type": "code",
      "source": [
        "# Dataset Describe\n",
        "df.describe().T"
      ],
      "metadata": {
        "id": "DnOaZdaE5Q5t"
      },
      "execution_count": null,
      "outputs": []
    },
    {
      "cell_type": "markdown",
      "source": [
        "### Variables Description "
      ],
      "metadata": {
        "id": "PBTbrJXOngz2"
      }
    },
    {
      "cell_type": "markdown",
      "source": [
        "* Battery Power    - Battery capacity in mah\n",
        "\n",
        "* Blue             - has buletooth or not \n",
        "* Clock_speed      - speed at which microprocessor executes instruction \n",
        "* dual_sim         - has dual sim support or not \n",
        "* fc               - front camera megapixels\n",
        "* four_g           - has 4g or not \n",
        "* Int_memory       - interal memory capacity\n",
        "* m_dep            - mobile depth in cm \n",
        "* mobile_wt        - weight of mobile phones\n",
        "* n_cores          - numbers of cores in processor\n",
        "* pc               - primary camera  mega pixels\n",
        "* Px_height        - pixel resolution hight \n",
        "* Px_width         - pixel resolution width\n",
        "* ram              - random access memory in MB\n",
        "* sc_h             - screen hight \n",
        "* sc_w             - screen width \n",
        "* Talk time        - longest that a single battery can last over a call \n",
        "* Three_g          - has 3g or not \n",
        "* wifi             - has wifi or not \n",
        "* price range      - this is the target variable with a value of 0(low cost),1 (medium cost),2(high cost),3(very high cost)"
      ],
      "metadata": {
        "id": "aJV4KIxSnxay"
      }
    },
    {
      "cell_type": "markdown",
      "source": [
        "### Check Unique Values for each variable."
      ],
      "metadata": {
        "id": "u3PMJOP6ngxN"
      }
    },
    {
      "cell_type": "code",
      "source": [
        "# Check Unique Values for each variable.\n",
        "df.nunique()"
      ],
      "metadata": {
        "id": "zms12Yq5n-jE"
      },
      "execution_count": null,
      "outputs": []
    },
    {
      "cell_type": "markdown",
      "source": [
        "## 3. ***Data Wrangling***"
      ],
      "metadata": {
        "id": "dauF4eBmngu3"
      }
    },
    {
      "cell_type": "markdown",
      "source": [
        "### Data Wrangling Code"
      ],
      "metadata": {
        "id": "bKJF3rekwFvQ"
      }
    },
    {
      "cell_type": "code",
      "source": [
        "# Write your code to make your dataset analysis ready.\n",
        "x=df['price_range']\n",
        "y=df.drop('price_range',axis=1)"
      ],
      "metadata": {
        "id": "wk-9a2fpoLcV"
      },
      "execution_count": null,
      "outputs": []
    },
    {
      "cell_type": "code",
      "source": [
        "# Grouping the columns into categorical, continuous and discrete variables depending on the nature of their data \n",
        "cat = ['blue','dual_sim','four_g','three_g','touch_screen','wifi']\n",
        "cont = ['clock_speed','fc','mobile_wt','int_memory','talk_time','sc_h','sc_w','m_dep']\n",
        "dis= ['battery_power','px_height','px_width','ram']"
      ],
      "metadata": {
        "id": "qgQq5QleYI7d"
      },
      "execution_count": null,
      "outputs": []
    },
    {
      "cell_type": "code",
      "source": [
        "# grouping price range with each of these variables\n",
        "df.groupby(['price_range']).agg({'blue':'value_counts','dual_sim':'value_counts','four_g':'value_counts','three_g':'value_counts','touch_screen':'value_counts','wifi':'value_counts'}).unstack()"
      ],
      "metadata": {
        "id": "FPxT9FViajCj"
      },
      "execution_count": null,
      "outputs": []
    },
    {
      "cell_type": "markdown",
      "source": [
        "### What all manipulations have you done and insights you found?"
      ],
      "metadata": {
        "id": "MSa1f5Uengrz"
      }
    },
    {
      "cell_type": "markdown",
      "source": [
        "This project is based in classification in this i have grouped the coloumns in categorical, continuous and discrete variable depanding upon the nature of the data. \n",
        " \n",
        "I have also grouped the price range with with each of the variable like blue,four_g, three_g etc."
      ],
      "metadata": {
        "id": "LbyXE7I1olp8"
      }
    },
    {
      "cell_type": "markdown",
      "source": [
        "## ***4. Data Vizualization, Storytelling & Experimenting with charts : Understand the relationships between variables***"
      ],
      "metadata": {
        "id": "GF8Ens_Soomf"
      }
    },
    {
      "cell_type": "markdown",
      "source": [
        "#### Chart - 1"
      ],
      "metadata": {
        "id": "0wOQAZs5pc--"
      }
    },
    {
      "cell_type": "code",
      "source": [
        "# Chart - 1 visualization code\n",
        "labels=['low cost','medium cost','high cost','very high cost']\n",
        "value=df['price_range'].value_counts().values \n",
        "explode = (0.03,0.03,0.03,0.03)\n",
        "fig1, ax1 = plt.subplots()\n",
        "ax1.pie(value, labels=labels ,explode=explode, autopct='%1.1f%%',labeldistance=1.1,)\n",
        "plt.show()"
      ],
      "metadata": {
        "id": "7v_ESjsspbW7"
      },
      "execution_count": null,
      "outputs": []
    },
    {
      "cell_type": "markdown",
      "source": [
        "##### 1. Why did you pick the specific chart?"
      ],
      "metadata": {
        "id": "K5QZ13OEpz2H"
      }
    },
    {
      "cell_type": "markdown",
      "source": [
        "In this we have choose the pie chart. This chart is easy to read and give the acurate result"
      ],
      "metadata": {
        "id": "XESiWehPqBRc"
      }
    },
    {
      "cell_type": "markdown",
      "source": [
        "##### 2. What is/are the insight(s) found from the chart?"
      ],
      "metadata": {
        "id": "lQ7QKXXCp7Bj"
      }
    },
    {
      "cell_type": "markdown",
      "source": [
        "* In the above graph the price range is divided in 4 parts low cost, medium cost, high cost, very high cost. \n",
        "* I have plot the graph and checked which catagory of price range is used by the coustmores. \n",
        "* As per the analysis we can say that that all the price range is distributed equaly at 25% each. "
      ],
      "metadata": {
        "id": "C_j1G7yiqdRP"
      }
    },
    {
      "cell_type": "markdown",
      "source": [
        "##### 3. Will the gained insights help creating a positive business impact? \n",
        "Are there any insights that lead to negative growth? Justify with specific reason."
      ],
      "metadata": {
        "id": "448CDAPjqfQr"
      }
    },
    {
      "cell_type": "markdown",
      "source": [
        "In the graph we can see that all the price range is equaly distributed at 25% which means that coustmore dont thing about the price they see the performance of the smart phone. "
      ],
      "metadata": {
        "id": "3cspy4FjqxJW"
      }
    },
    {
      "cell_type": "markdown",
      "source": [
        "#### Chart - 2"
      ],
      "metadata": {
        "id": "KSlN3yHqYklG"
      }
    },
    {
      "cell_type": "code",
      "source": [
        "# Chart - 2 visualization code\n",
        "# taking categorial variables\n",
        "lis = ['blue','dual_sim','four_g','three_g','touch_screen','wifi']\n",
        "plt.figure(figsize=(15,10))\n",
        "for index,item in enumerate(lis):\n",
        "  plt.subplot(2,3,index+1)\n",
        "  sns.histplot(df[item])\n",
        "  plt.title(f'Count of phones for {item}')"
      ],
      "metadata": {
        "id": "R4YgtaqtYklH"
      },
      "execution_count": null,
      "outputs": []
    },
    {
      "cell_type": "markdown",
      "source": [
        "##### 1. Why did you pick the specific chart?"
      ],
      "metadata": {
        "id": "t6dVpIINYklI"
      }
    },
    {
      "cell_type": "markdown",
      "source": [
        "Bar chart is sutiable for this analysis because it is easy to read huge data."
      ],
      "metadata": {
        "id": "5aaW0BYyYklI"
      }
    },
    {
      "cell_type": "markdown",
      "source": [
        "##### 2. What is/are the insight(s) found from the chart?"
      ],
      "metadata": {
        "id": "ijmpgYnKYklI"
      }
    },
    {
      "cell_type": "markdown",
      "source": [
        "* The trends show that the no. of phones that have Bluetooth, dual sim, 4G, touch screen and wifi, almost equals to the no. of phones which don't have them.\n",
        "* There are few phones which don't have either 4G nor they have 3G support, in this case, let's assume they are using 2G phones or least probably 1G phones."
      ],
      "metadata": {
        "id": "PSx9atu2YklI"
      }
    },
    {
      "cell_type": "markdown",
      "source": [
        "##### 3. Will the gained insights help creating a positive business impact? \n",
        "Are there any insights that lead to negative growth? Justify with specific reason."
      ],
      "metadata": {
        "id": "-JiQyfWJYklI"
      }
    },
    {
      "cell_type": "markdown",
      "source": [
        "The above graps is import to understand the features which we are getting in our phone like three_g, four_g , dula sim etc. there are equal number of phones which have features and which dont have features. "
      ],
      "metadata": {
        "id": "BcBbebzrYklV"
      }
    },
    {
      "cell_type": "markdown",
      "source": [
        "#### Chart - 3"
      ],
      "metadata": {
        "id": "EM7whBJCYoAo"
      }
    },
    {
      "cell_type": "code",
      "source": [
        "c= 1\n",
        "# visualizing the count of each by running a for loop\n",
        "plt.figure(figsize = (10,10))\n",
        "for i in dis:\n",
        "    plt.subplot(3,2,c)\n",
        "    c=c+1\n",
        "    sns.distplot(df[i])\n",
        "    plt.legend(['skew: '+str(df[i].skew())])"
      ],
      "metadata": {
        "id": "t6GMdE67YoAp"
      },
      "execution_count": null,
      "outputs": []
    },
    {
      "cell_type": "markdown",
      "source": [
        "##### 1. Why did you pick the specific chart?"
      ],
      "metadata": {
        "id": "fge-S5ZAYoAp"
      }
    },
    {
      "cell_type": "markdown",
      "source": [
        "* For this visualation i have used the histogram because it is the best fit this analysis."
      ],
      "metadata": {
        "id": "5dBItgRVYoAp"
      }
    },
    {
      "cell_type": "markdown",
      "source": [
        "##### 2. What is/are the insight(s) found from the chart?"
      ],
      "metadata": {
        "id": "85gYPyotYoAp"
      }
    },
    {
      "cell_type": "markdown",
      "source": [
        "* The count of phones is equally distributed among all the parameters in every variable except pixel height.\n",
        "* The number of phones tends to decrease as we go higher in pixel height, i.e. we can say that the graph is positively skewed. "
      ],
      "metadata": {
        "id": "4jstXR6OYoAp"
      }
    },
    {
      "cell_type": "markdown",
      "source": [
        "##### 3. Will the gained insights help creating a positive business impact? \n",
        "Are there any insights that lead to negative growth? Justify with specific reason."
      ],
      "metadata": {
        "id": "RoGjAbkUYoAp"
      }
    },
    {
      "cell_type": "markdown",
      "source": [
        "* In our analysis we have seen that the  phones are equally distributed among all paraments except pixel hight and it tends to dec as we go higher in pixel height. \n"
      ],
      "metadata": {
        "id": "zfJ8IqMcYoAp"
      }
    },
    {
      "cell_type": "markdown",
      "source": [
        "#### Chart - 4"
      ],
      "metadata": {
        "id": "4Of9eVA-YrdM"
      }
    },
    {
      "cell_type": "code",
      "source": [
        "# Chart - 4 visualization code\n",
        "plt.rcParams['figure.figsize']=(13,10)\n",
        "df.groupby(['price_range']).agg({'blue':'value_counts','dual_sim':'value_counts','four_g':'value_counts','three_g':'value_counts','touch_screen':'value_counts','wifi':'value_counts'}).unstack().plot.bar()\n",
        "plt.title('No. of phones in each category x price range')\n",
        "plt.xlabel('Price range')\n",
        "plt.ylabel('No. of phones')"
      ],
      "metadata": {
        "id": "irlUoxc8YrdO"
      },
      "execution_count": null,
      "outputs": []
    },
    {
      "cell_type": "markdown",
      "source": [
        "##### 1. Why did you pick the specific chart?"
      ],
      "metadata": {
        "id": "iky9q4vBYrdO"
      }
    },
    {
      "cell_type": "markdown",
      "source": [
        "In this we have choose the bar graph because it is best way to see all the visssulation."
      ],
      "metadata": {
        "id": "aJRCwT6DYrdO"
      }
    },
    {
      "cell_type": "markdown",
      "source": [
        "##### 2. What is/are the insight(s) found from the chart?"
      ],
      "metadata": {
        "id": "F6T5p64dYrdO"
      }
    },
    {
      "cell_type": "markdown",
      "source": [
        "* In this i have done the vissulation in Bluetooth, 4g, 3g, dual_sim, wifi, Touchscreen in respect to price range\n",
        "* In our observation It looks like all the price ranges have almost equal no. of observations for both supported and unsupported type specifications."
      ],
      "metadata": {
        "id": "Xx8WAJvtYrdO"
      }
    },
    {
      "cell_type": "markdown",
      "source": [
        "##### 3. Will the gained insights help creating a positive business impact? \n",
        "Are there any insights that lead to negative growth? Justify with specific reason."
      ],
      "metadata": {
        "id": "y-Ehk30pYrdP"
      }
    },
    {
      "cell_type": "markdown",
      "source": [
        "As per our visualation we  know that price range is equal for both supported and unsupported type specification. By this we can say that price range is equal for bluetooth ,4g,3g etc."
      ],
      "metadata": {
        "id": "jLNxxz7MYrdP"
      }
    },
    {
      "cell_type": "markdown",
      "source": [
        "#### Chart - 5"
      ],
      "metadata": {
        "id": "CPpa39AbxiQ4"
      }
    },
    {
      "cell_type": "code",
      "source": [
        "# Chart - 5 visualization code\n",
        "list1=['n_cores','m_dep']\n",
        "for item in list1:\n",
        "  plt.rcParams['figure.figsize']=(8,6)\n",
        "  df.groupby(['price_range'])[item].value_counts().unstack().plot.bar()\n",
        "  plt.title(f'Price range grouped by {item}')\n",
        "  plt.ylabel('No. of phones')"
      ],
      "metadata": {
        "id": "em4olS7Dxl3V"
      },
      "execution_count": null,
      "outputs": []
    },
    {
      "cell_type": "code",
      "source": [
        "plt.figure(figsize=(17,10))\n",
        "for index,item in enumerate(list1):\n",
        "  plt.subplot(2,4,index+1)\n",
        "  sns.pointplot(x='price_range',y=item,data=df)\n",
        "  plt.title(f'{item} vs price range')"
      ],
      "metadata": {
        "id": "tMR5FTgA5hXS"
      },
      "execution_count": null,
      "outputs": []
    },
    {
      "cell_type": "markdown",
      "source": [
        "##### 1. Why did you pick the specific chart?"
      ],
      "metadata": {
        "id": "FNr_fncUx0Fg"
      }
    },
    {
      "cell_type": "markdown",
      "source": [
        "* In this we have use bar to see better results."
      ],
      "metadata": {
        "id": "rsz5m643x1U4"
      }
    },
    {
      "cell_type": "markdown",
      "source": [
        "##### 2. What is/are the insight(s) found from the chart?"
      ],
      "metadata": {
        "id": "l5en2JGyx7Nj"
      }
    },
    {
      "cell_type": "markdown",
      "source": [
        "* Count of lesser nos. of cores is high for 0 and 1 price range.\n",
        "* Count of higher nos. of cores is high for 2 and 3 price range.\n",
        "* Count of phones with less thickness is high and count of phones with high thickness is low."
      ],
      "metadata": {
        "id": "YlwVOidPx-pO"
      }
    },
    {
      "cell_type": "markdown",
      "source": [
        "##### 3. Will the gained insights help creating a positive business impact? \n",
        "Are there any insights that lead to negative growth? Justify with specific reason."
      ],
      "metadata": {
        "id": "7eqtm6hnx_cb"
      }
    },
    {
      "cell_type": "markdown",
      "source": [
        "* As our graph is based on n_cores and m_depth vs price range. According to our visualution we can say that maxinmum numbe of coustmer are bying the phone with less thickness. "
      ],
      "metadata": {
        "id": "xKbJh5aLyHPX"
      }
    },
    {
      "cell_type": "markdown",
      "source": [
        "#### Chart - 6"
      ],
      "metadata": {
        "id": "OH-pJp9IphqM"
      }
    },
    {
      "cell_type": "code",
      "source": [
        "# Chart - 6 visualization code\n",
        "list2=['battery_power','px_height','px_width','ram']\n",
        "plt.figure(figsize=(20,6))\n",
        "for index,item in enumerate(list2):\n",
        "  plt.subplot(1,4,index+1)\n",
        "  sns.boxplot(x='price_range',y=item,data=df)\n",
        "  plt.title(f'{item} vs price range')"
      ],
      "metadata": {
        "id": "kuRf4wtuphqN"
      },
      "execution_count": null,
      "outputs": []
    },
    {
      "cell_type": "markdown",
      "source": [
        "##### 1. Why did you pick the specific chart?"
      ],
      "metadata": {
        "id": "bbFf2-_FphqN"
      }
    },
    {
      "cell_type": "markdown",
      "source": [
        "* In this we have used the box plot to get betteer result of our data \n"
      ],
      "metadata": {
        "id": "loh7H2nzphqN"
      }
    },
    {
      "cell_type": "markdown",
      "source": [
        "##### 2. What is/are the insight(s) found from the chart?"
      ],
      "metadata": {
        "id": "_ouA3fa0phqN"
      }
    },
    {
      "cell_type": "markdown",
      "source": [
        "*  in our visulation we  have seen that Mean values of battery power, px_height, px_width, ram is increasing with increase in prices. "
      ],
      "metadata": {
        "id": "VECbqPI7phqN"
      }
    },
    {
      "cell_type": "markdown",
      "source": [
        "##### 3. Will the gained insights help creating a positive business impact? \n",
        "Are there any insights that lead to negative growth? Justify with specific reason."
      ],
      "metadata": {
        "id": "Seke61FWphqN"
      }
    },
    {
      "cell_type": "markdown",
      "source": [
        "* Accourding to our visualiation we can say that costly mobile phone will have good power, ram ,hight and width. \n"
      ],
      "metadata": {
        "id": "DW4_bGpfphqN"
      }
    },
    {
      "cell_type": "markdown",
      "source": [
        "#### Chart - 7"
      ],
      "metadata": {
        "id": "PIIx-8_IphqN"
      }
    },
    {
      "cell_type": "code",
      "source": [
        "# Chart - 7 visualization code\n",
        "plt.figure(figsize=(17,10))\n",
        "for index,item in enumerate(list2):\n",
        "  plt.subplot(2,4,index+1)\n",
        "  sns.pointplot(x='price_range',y=item,data=df)\n",
        "  plt.title(f'{item} vs price range')"
      ],
      "metadata": {
        "id": "lqAIGUfyphqO"
      },
      "execution_count": null,
      "outputs": []
    },
    {
      "cell_type": "markdown",
      "source": [
        "##### 1. Why did you pick the specific chart?"
      ],
      "metadata": {
        "id": "t27r6nlMphqO"
      }
    },
    {
      "cell_type": "markdown",
      "source": [
        "* For this we have chossen the point plot to see the actual results "
      ],
      "metadata": {
        "id": "iv6ro40sphqO"
      }
    },
    {
      "cell_type": "markdown",
      "source": [
        "##### 2. What is/are the insight(s) found from the chart?"
      ],
      "metadata": {
        "id": "r2jJGEOYphqO"
      }
    },
    {
      "cell_type": "markdown",
      "source": [
        "*   Accourding to our analysis it appears that the values of these variables are rising in lockstep with the rise in prices. Ram is having an immediate effect. The more RAM you have, the more money you'll spend!"
      ],
      "metadata": {
        "id": "Po6ZPi4hphqO"
      }
    },
    {
      "cell_type": "markdown",
      "source": [
        "##### 3. Will the gained insights help creating a positive business impact? \n",
        "Are there any insights that lead to negative growth? Justify with specific reason."
      ],
      "metadata": {
        "id": "b0JNsNcRphqO"
      }
    },
    {
      "cell_type": "markdown",
      "source": [
        "* From our analysis we can say that max money is spend in Ram and it is inc continuously. "
      ],
      "metadata": {
        "id": "xvSq8iUTphqO"
      }
    },
    {
      "cell_type": "markdown",
      "source": [
        "#### Chart - 14 - Correlation Heatmap"
      ],
      "metadata": {
        "id": "NC_X3p0fY2L0"
      }
    },
    {
      "cell_type": "code",
      "source": [
        "# Correlation Heatmap visualization code\n",
        "# Finding correlation amongst the variables\n",
        "corr=df.corr()\n",
        "plt.figure(figsize=(20,10))\n",
        "sns.heatmap(abs(corr),cmap='coolwarm',annot=True)"
      ],
      "metadata": {
        "id": "xyC9zolEZNRQ"
      },
      "execution_count": null,
      "outputs": []
    },
    {
      "cell_type": "markdown",
      "source": [
        "  ##### 1. Why did you pick the specific chart?"
      ],
      "metadata": {
        "id": "UV0SzAkaZNRQ"
      }
    },
    {
      "cell_type": "markdown",
      "source": [
        "* It is use to check correletion betweeen variables using Correlation heatmap, it is graphical representation of correlation matrix representing correlation between different variables"
      ],
      "metadata": {
        "id": "DVPuT8LYZNRQ"
      }
    },
    {
      "cell_type": "markdown",
      "source": [
        "##### 2. What is/are the insight(s) found from the chart?"
      ],
      "metadata": {
        "id": "YPEH6qLeZNRQ"
      }
    },
    {
      "cell_type": "markdown",
      "source": [
        "* pc is correlated with fc.\n",
        "*3g and 4g are moderately correlated.\n",
        "*sc_h and sc_w are moderately correlated. We will try to change them into a single variable.\n",
        "*px_width and px_height are moderately correlated. We will try to change them into a single variable.\n",
        "*ram is highly correlated with our price range. May be one the most important factor in determining the price."
      ],
      "metadata": {
        "id": "bfSqtnDqZNRR"
      }
    },
    {
      "cell_type": "markdown",
      "source": [
        "##Data Pre-processing"
      ],
      "metadata": {
        "id": "iN2uPJRJeP5w"
      }
    },
    {
      "cell_type": "markdown",
      "source": [
        "#Feature Selection\n"
      ],
      "metadata": {
        "id": "PSEOmJoleXWy"
      }
    },
    {
      "cell_type": "markdown",
      "source": [
        "Feature Selection When creating a predictive model, feature selection is the process of minimising the number of input variables. In fact, all of the variables in a dataset are practically never significant when creating a machine learning model. Duplicate variables diminish a classifier's accuracy rate and reduce the model's generalisation ability. Adding extra variables to a model also increases the model's overall complexity. To reduce modelling computational costs and, in some cases, improve model performance, it's best to keep the number of input variables to a minimum."
      ],
      "metadata": {
        "id": "vj6T1Ljm0O9l"
      }
    },
    {
      "cell_type": "code",
      "source": [
        "\n",
        "indep_var = df.iloc[:,0:20]  #independent columns\n",
        "dep_var = df.iloc[:,-1] #Dependent column"
      ],
      "metadata": {
        "id": "iz_R_Ytjebu3"
      },
      "execution_count": null,
      "outputs": []
    },
    {
      "cell_type": "code",
      "source": [
        "# Apply SelectKBest class to extract top 15 best features\n",
        "bestfeatures = SelectKBest(score_func=chi2, k=15)\n",
        "fit = bestfeatures.fit(indep_var, dep_var)\n",
        "dfscores = pd.DataFrame(fit.scores_)\n",
        "dfcolumns = pd.DataFrame(indep_var.columns)"
      ],
      "metadata": {
        "id": "sQQ1J-qgek2H"
      },
      "execution_count": null,
      "outputs": []
    },
    {
      "cell_type": "code",
      "source": [
        "#concat two dataframes for better visualization \n",
        "feat_imp = pd.concat([dfcolumns,dfscores],axis=1)\n",
        "feat_imp.columns = ['Specs','Score']  #naming the dataframe columns\n",
        "print(feat_imp.nlargest(15,'Score'))"
      ],
      "metadata": {
        "id": "93jntZsLen-3"
      },
      "execution_count": null,
      "outputs": []
    },
    {
      "cell_type": "code",
      "source": [
        "#Visualising the important features\n",
        "fig, ax = plt.subplots(figsize=(15,8))\n",
        "ax = sns.barplot(x=feat_imp['Specs'], y=feat_imp['Score'])\n",
        "plt.show()"
      ],
      "metadata": {
        "id": "2XIA_ji2ezBF"
      },
      "execution_count": null,
      "outputs": []
    },
    {
      "cell_type": "markdown",
      "source": [
        "1  What is/are the insight(s) found from the chart?"
      ],
      "metadata": {
        "id": "89mKGqqxxcJa"
      }
    },
    {
      "cell_type": "markdown",
      "source": [
        "* Ram, battery power, pixel height and pixel width standing out with it's values, minimising the other bars, we need to check in detail by only keeping the values below 100 temporarily."
      ],
      "metadata": {
        "id": "G7pvNR4UxhzN"
      }
    },
    {
      "cell_type": "code",
      "source": [
        "\n",
        "#Keeping the columns with value above 100 aside to understand the other important features\n",
        "temp_df= feat_imp.drop(index=[0,11,12,13])"
      ],
      "metadata": {
        "id": "oc6rojj1e3WC"
      },
      "execution_count": null,
      "outputs": []
    },
    {
      "cell_type": "code",
      "source": [
        "fig, ax = plt.subplots(figsize=(15,8))\n",
        "ax = sns.barplot(x=temp_df['Specs'], y=temp_df['Score'])\n",
        "plt.show()"
      ],
      "metadata": {
        "id": "Ay96a9YWe7DB"
      },
      "execution_count": null,
      "outputs": []
    },
    {
      "cell_type": "markdown",
      "source": [
        "1  What is/are the insight(s) found from the chart?\n",
        "\n",
        "\n"
      ],
      "metadata": {
        "id": "iO3JqrXswmbJ"
      }
    },
    {
      "cell_type": "markdown",
      "source": [
        "**** The most important features, as per both graphs are\n",
        "* Ram\n",
        "-Battery Power\n",
        "*Mobile weight\n",
        "*Internal memory\n",
        "*Front Camera megapixels\n",
        "*Number of cores\n",
        "*Primary Camera megapixels\n",
        "*Screen height\n",
        "*Screen width\n",
        "*Talk time"
      ],
      "metadata": {
        "id": "oqB9EkV1wr3c"
      }
    },
    {
      "cell_type": "code",
      "source": [
        "\n",
        "#Dropping the columns with importance value below 9\n",
        "X=df[['ram', 'battery_power', 'px_height', 'px_width','mobile_wt','int_memory','sc_w','talk_time','fc','sc_h','pc','n_cores']]\n",
        "Y=df['price_range']"
      ],
      "metadata": {
        "id": "aSG8nrfafDrY"
      },
      "execution_count": null,
      "outputs": []
    },
    {
      "cell_type": "markdown",
      "source": [
        "Rest of the columns we can drop and run our models on to predict the values."
      ],
      "metadata": {
        "id": "f50_CyD0yWM5"
      }
    },
    {
      "cell_type": "markdown",
      "source": [
        "#Train Test Spilt"
      ],
      "metadata": {
        "id": "Dn41CsDHfExS"
      }
    },
    {
      "cell_type": "markdown",
      "source": [
        "Before, fitting any model it is a rule of thumb to split the dataset into a training and test set. This means some proportions of the data will go into training the model and some portion will be used to evaluate how our model is performing. The proportions may vary from 60:40, 70:30, 75:25 depending on the person but mostly used is 80:20 for training and testing respectively. In this step we will split our data into training and testing set using scikit learn library.\n",
        "\n"
      ],
      "metadata": {
        "id": "i5QX9iyLzVvL"
      }
    },
    {
      "cell_type": "code",
      "source": [
        "# Appying the train test split\n",
        "from sklearn.model_selection import train_test_split\n",
        "X_train,X_test,Y_train,Y_test=train_test_split(X, Y, test_size=0.20,random_state=42,stratify=Y)\n",
        "print(X_train.shape)\n",
        "print(X_test.shape)\n",
        "print(Y_train.shape)\n",
        "print(Y_test.shape)"
      ],
      "metadata": {
        "id": "SrZ-S5r5fNvR"
      },
      "execution_count": null,
      "outputs": []
    },
    {
      "cell_type": "markdown",
      "source": [
        "#Scaling the data"
      ],
      "metadata": {
        "id": "P7ylIEn6fSrz"
      }
    },
    {
      "cell_type": "markdown",
      "source": [
        "This means we're altering our data to fit into a specified scale, such as 0-100 or 0-1. When we're employing methods like k-nearest neighbours (KNN), we'll want to scale our data"
      ],
      "metadata": {
        "id": "jDKhJBl00CLj"
      }
    },
    {
      "cell_type": "code",
      "source": [
        "sc = StandardScaler()\n",
        "\n",
        "X_train = sc.fit_transform(X_train)\n",
        "X_test = sc.transform(X_test)"
      ],
      "metadata": {
        "id": "fJnP1UU4fV5v"
      },
      "execution_count": null,
      "outputs": []
    },
    {
      "cell_type": "markdown",
      "source": [
        "#**Predictive Modelling**"
      ],
      "metadata": {
        "id": "eqsvIUae3XV3"
      }
    },
    {
      "cell_type": "markdown",
      "source": [
        "Predictive modelling is a method of using data modelling to anticipate future consequences. It's one of the most effective ways for a company to envision its future and make strategies appropriately. While not perfect, this method has a high rate of accuracy, which is why it is so popular and widespread.\n",
        "\n",
        "\n",
        "\n",
        "#Algorithms and methods to be used to apply predictive modelling\n",
        "* Decision Tree Classifier\n",
        "*Random Forest Classifier (With & Without Hyperparameter tuning)\n",
        "*Gradient Boosting Classifier (With & Without Hyperparameter tuning)\n",
        "*XGBoost Classifier (With & Without Hyperparameter tuning)\n",
        "*K-Nearest Neighbours (With & Without Hyperparameter tuning)"
      ],
      "metadata": {
        "id": "P4l8s6oJ3bK6"
      }
    },
    {
      "cell_type": "markdown",
      "source": [
        "#Decision Tree Classifier"
      ],
      "metadata": {
        "id": "CTgW4PSjfSog"
      }
    },
    {
      "cell_type": "code",
      "source": [
        "clsr = DecisionTreeClassifier()\n",
        "X_train, X_test, Y_train, Y_test = train_test_split(X, Y, test_size=0.20, random_state=42)\n",
        "clsr.fit(X_train, Y_train)\n",
        "     "
      ],
      "metadata": {
        "id": "83GpgUdSfmIK"
      },
      "execution_count": null,
      "outputs": []
    },
    {
      "cell_type": "code",
      "source": [
        "y_pred = clsr.predict(X_test)"
      ],
      "metadata": {
        "id": "zX256qf0ftqu"
      },
      "execution_count": null,
      "outputs": []
    },
    {
      "cell_type": "code",
      "source": [
        "y_pred_train = clsr.predict(X_train)"
      ],
      "metadata": {
        "id": "zLKZAkB5fw2m"
      },
      "execution_count": null,
      "outputs": []
    },
    {
      "cell_type": "code",
      "source": [
        "accuracy_score(Y_train, y_pred_train)"
      ],
      "metadata": {
        "id": "xMW8miSIf0qm"
      },
      "execution_count": null,
      "outputs": []
    },
    {
      "cell_type": "code",
      "source": [
        "accuracy_score(Y_test, y_pred)"
      ],
      "metadata": {
        "id": "L0mHQIU8f4VU"
      },
      "execution_count": null,
      "outputs": []
    },
    {
      "cell_type": "code",
      "source": [
        "print(classification_report(Y_test, y_pred))\n"
      ],
      "metadata": {
        "id": "UqdDHXGGf9Ky"
      },
      "execution_count": null,
      "outputs": []
    },
    {
      "cell_type": "code",
      "source": [
        "\n",
        "#Checking the important features as per the decision tree classifier\n",
        "feature_importance = pd.DataFrame({'Specs':X.columns,\n",
        "                                   'Score':clsr.feature_importances_}).sort_values(by='Score', ascending=False).reset_index(drop=True)\n",
        "\n",
        "     \n",
        "\n",
        "feature_importance.head()"
      ],
      "metadata": {
        "id": "RuZ1mFengZIq"
      },
      "execution_count": null,
      "outputs": []
    },
    {
      "cell_type": "code",
      "source": [
        "#Visualising the important features\n",
        "fig, ax = plt.subplots(figsize=(15,8))\n",
        "ax = sns.barplot(x=feature_importance['Score'], y=feature_importance['Specs'])\n",
        "plt.show()"
      ],
      "metadata": {
        "id": "iev1nxsIgiOl"
      },
      "execution_count": null,
      "outputs": []
    },
    {
      "cell_type": "code",
      "source": [
        "graph = Source(tree.export_graphviz(clsr, out_file=None\n",
        "   , feature_names=X.columns, class_names=['0', '1', '2', '3'] \n",
        "   , filled = True))\n",
        "display(SVG(graph.pipe(format='svg')))"
      ],
      "metadata": {
        "id": "jxgy-V8Zgl15"
      },
      "execution_count": null,
      "outputs": []
    },
    {
      "cell_type": "markdown",
      "source": [
        "#Random Forest Classifier"
      ],
      "metadata": {
        "id": "hxZdYM2dgr4W"
      }
    },
    {
      "cell_type": "code",
      "source": [
        "rf_clsr = RandomForestClassifier(n_estimators=150)\n",
        "X_train, X_test, Y_train, Y_test = train_test_split(X,Y,test_size=0.20,random_state=42)\n",
        "rf_clsr.fit(X_train, Y_train)"
      ],
      "metadata": {
        "id": "EXhmbgjkgtYp"
      },
      "execution_count": null,
      "outputs": []
    },
    {
      "cell_type": "code",
      "source": [
        "\n",
        "y_pred = clsr.predict(X_test)"
      ],
      "metadata": {
        "id": "ZjrwPAwDg4KK"
      },
      "execution_count": null,
      "outputs": []
    },
    {
      "cell_type": "code",
      "source": [
        "\n",
        "y_pred_train = clsr.predict(X_train)"
      ],
      "metadata": {
        "id": "TfpH8UNUg9MK"
      },
      "execution_count": null,
      "outputs": []
    },
    {
      "cell_type": "code",
      "source": [
        "\n",
        "accuracy_score(Y_train, y_pred_train)"
      ],
      "metadata": {
        "id": "pwSwUsQkhAl6"
      },
      "execution_count": null,
      "outputs": []
    },
    {
      "cell_type": "code",
      "source": [
        "\n",
        "accuracy_score(Y_test, y_pred)"
      ],
      "metadata": {
        "id": "T23p6tY1hIWk"
      },
      "execution_count": null,
      "outputs": []
    },
    {
      "cell_type": "code",
      "source": [
        "\n",
        "print(classification_report(Y_test, y_pred))"
      ],
      "metadata": {
        "id": "vEiKQPMShMk3"
      },
      "execution_count": null,
      "outputs": []
    },
    {
      "cell_type": "markdown",
      "source": [
        "* The overall accuracy score on our test data is 84%.\n",
        "*Prediction accuracy on class 1 (Low Cost) is 93%.\n",
        "*Prediction accuracy on class 2 (Medium Cost) is 80%.\n",
        "*Prediction accuracy on class 3 (High Cost) is 63%.\n",
        "*Prediction accuracy on class 4 (Low Cost) is 100%.\n",
        "* As a result, we can see that the Random Forest Classifier has performed good overall, and best in class 4."
      ],
      "metadata": {
        "id": "hPZz13kdA-MW"
      }
    },
    {
      "cell_type": "markdown",
      "source": [
        "Random forest tends to overfit too, let's tune it a bit.\n"
      ],
      "metadata": {
        "id": "THFv53cphbzQ"
      }
    },
    {
      "cell_type": "code",
      "source": [
        "#Checking the important features with Random Forest Classifier\n",
        "feature_importance = pd.DataFrame({'Specs':X.columns,\n",
        "                                   'Score':clsr.feature_importances_}).sort_values(by='Score', ascending=False).reset_index(drop=True)\n",
        "     "
      ],
      "metadata": {
        "id": "Ix4ZBeVYhbIF"
      },
      "execution_count": null,
      "outputs": []
    },
    {
      "cell_type": "code",
      "source": [
        "feature_importance.head()"
      ],
      "metadata": {
        "id": "m1wXcfJ7hjxS"
      },
      "execution_count": null,
      "outputs": []
    },
    {
      "cell_type": "markdown",
      "source": [
        "\n",
        "###Hyperparameter tuning with Random forest"
      ],
      "metadata": {
        "id": "euw5d5wdh2Sz"
      }
    },
    {
      "cell_type": "code",
      "source": [
        "\n",
        "#Hyperparameter tuning for Random Forest\n",
        "X_train,X_test,Y_train,Y_test = train_test_split(X,Y)"
      ],
      "metadata": {
        "id": "Q-Ga9s7-h7Vi"
      },
      "execution_count": null,
      "outputs": []
    },
    {
      "cell_type": "code",
      "source": [
        "params = {'n_estimators':[300, 400, 500, 700],\n",
        "          'max_depth':[None, 10, 20, 40],\n",
        "          'min_samples_split':[2,6,10],\n",
        "          'max_leaf_nodes':[None]\n",
        "          }"
      ],
      "metadata": {
        "id": "dEpUkjfPh_X6"
      },
      "execution_count": null,
      "outputs": []
    },
    {
      "cell_type": "code",
      "source": [
        "rf = RandomForestClassifier()\n",
        "clsr = GridSearchCV(rf, params, scoring='accuracy', cv=5)\n",
        "clsr.fit(X, Y)"
      ],
      "metadata": {
        "id": "gr-5V5ThiCV0"
      },
      "execution_count": null,
      "outputs": []
    },
    {
      "cell_type": "code",
      "source": [
        "clsr.best_params_"
      ],
      "metadata": {
        "id": "j-UC17zBiFhF"
      },
      "execution_count": null,
      "outputs": []
    },
    {
      "cell_type": "code",
      "source": [
        "clsr.best_estimator_"
      ],
      "metadata": {
        "id": "GkOqwSaevtN1"
      },
      "execution_count": null,
      "outputs": []
    },
    {
      "cell_type": "code",
      "source": [
        "clsr.best_score_"
      ],
      "metadata": {
        "id": "zs6skq7jv-q6"
      },
      "execution_count": null,
      "outputs": []
    },
    {
      "cell_type": "code",
      "source": [
        "X_train,X_test,Y_train,Y_test =train_test_split(X,Y, test_size=0.02, random_state=42)"
      ],
      "metadata": {
        "id": "SCgB6-sDwGU4"
      },
      "execution_count": null,
      "outputs": []
    },
    {
      "cell_type": "code",
      "source": [
        "clsr = clsr.best_estimator_\n"
      ],
      "metadata": {
        "id": "O0O3oaaowep4"
      },
      "execution_count": null,
      "outputs": []
    },
    {
      "cell_type": "code",
      "source": [
        "clsr.fit(X_train, Y_train)"
      ],
      "metadata": {
        "id": "RCaXPI8iyqij"
      },
      "execution_count": null,
      "outputs": []
    },
    {
      "cell_type": "code",
      "source": [
        "Y_pred =clsr.predict(X_test)"
      ],
      "metadata": {
        "id": "nYPW9bp3ywU-"
      },
      "execution_count": null,
      "outputs": []
    },
    {
      "cell_type": "code",
      "source": [
        "Y_pred_train =clsr.predict(X_train)"
      ],
      "metadata": {
        "id": "P_Y2W5Dgy-Z7"
      },
      "execution_count": null,
      "outputs": []
    },
    {
      "cell_type": "code",
      "source": [
        "accuracy_score(Y_train, Y_pred_train)"
      ],
      "metadata": {
        "id": "dBJUmEk4zN4j"
      },
      "execution_count": null,
      "outputs": []
    },
    {
      "cell_type": "code",
      "source": [
        "accuracy_score(Y_test, Y_pred)"
      ],
      "metadata": {
        "id": "Z0x8AB5DzX0u"
      },
      "execution_count": null,
      "outputs": []
    },
    {
      "cell_type": "markdown",
      "source": [
        "#Gradient Boosting Classifier\n"
      ],
      "metadata": {
        "id": "t7pZqYO-zpGF"
      }
    },
    {
      "cell_type": "code",
      "source": [
        "X_test , X_train, Y_test, Y_train = train_test_split(X,Y,test_size=0.20, random_state=42)"
      ],
      "metadata": {
        "id": "hN2ve031zwFf"
      },
      "execution_count": null,
      "outputs": []
    },
    {
      "cell_type": "code",
      "source": [
        "clsr=GradientBoostingClassifier(n_estimators=300, learning_rate=1.0, max_depth=1)"
      ],
      "metadata": {
        "id": "qVR6eN5D2OiK"
      },
      "execution_count": null,
      "outputs": []
    },
    {
      "cell_type": "code",
      "source": [
        "clsr.fit(X_train,Y_train)"
      ],
      "metadata": {
        "id": "ZzLdRCyw4_St"
      },
      "execution_count": null,
      "outputs": []
    },
    {
      "cell_type": "code",
      "source": [
        "Y_pred_train =clsr.predict(X_train)"
      ],
      "metadata": {
        "id": "rXGTirqOL4xL"
      },
      "execution_count": null,
      "outputs": []
    },
    {
      "cell_type": "code",
      "source": [
        "Y_pred =clsr.predict(X_test)"
      ],
      "metadata": {
        "id": "XLzZydBVPIX0"
      },
      "execution_count": null,
      "outputs": []
    },
    {
      "cell_type": "code",
      "source": [
        "accuracy_score(Y_train,Y_pred_train)"
      ],
      "metadata": {
        "id": "2SONJO-pVOAE"
      },
      "execution_count": null,
      "outputs": []
    },
    {
      "cell_type": "code",
      "source": [
        "accuracy_score(Y_test,Y_pred)"
      ],
      "metadata": {
        "id": "K9h3SJ19V0dt"
      },
      "execution_count": null,
      "outputs": []
    },
    {
      "cell_type": "code",
      "source": [
        "print(classification_report(Y_test, Y_pred))\n"
      ],
      "metadata": {
        "id": "elHwP_m5Waps"
      },
      "execution_count": null,
      "outputs": []
    },
    {
      "cell_type": "markdown",
      "source": [
        "* The overall accuracy score on our test data is 92%.\n",
        "*Prediction accuracy on class 1 (Low Cost) is 100%.\n",
        "*Prediction accuracy on class 2 (Medium Cost) is 84%.\n",
        "*Prediction accuracy on class 3 (High Cost) is 80%.\n",
        "*Prediction accuracy on class 4 (Low Cost) is 100%.\n",
        "* As a result, we can see that the Gradient Boosting Classifier has performed good overall, and best in class 1 & class 4."
      ],
      "metadata": {
        "id": "gL7xKAD6B55n"
      }
    },
    {
      "cell_type": "code",
      "source": [
        "#checking the important features with Gradient boosting\n",
        "feature_importance = pd.DataFrame({'Specs':X.columns,\n",
        "                                   'Score':clsr.feature_importances_}).sort_values(by='Score', ascending=False).reset_index(drop=True)"
      ],
      "metadata": {
        "id": "xCnQddT8WwlG"
      },
      "execution_count": null,
      "outputs": []
    },
    {
      "cell_type": "code",
      "source": [
        "feature_importance.head()"
      ],
      "metadata": {
        "id": "luFt-F0NWyGt"
      },
      "execution_count": null,
      "outputs": []
    },
    {
      "cell_type": "code",
      "source": [
        "fig, ax = plt.subplots(figsize=(15,8))\n",
        "ax = sns.barplot(x=feature_importance['Score'], y=feature_importance['Specs'])\n",
        "plt.show()\n",
        "     "
      ],
      "metadata": {
        "id": "CqgU4QfEW3S0"
      },
      "execution_count": null,
      "outputs": []
    },
    {
      "cell_type": "markdown",
      "source": [
        "##Hyperparameter tuning with Gradient Boosting\n"
      ],
      "metadata": {
        "id": "6gCW3c2Wh-de"
      }
    },
    {
      "cell_type": "code",
      "source": [
        "\n",
        "params = {'n_estimators':[50,100,300,500],\n",
        "          'max_depth':[3,8,10],\n",
        "          'learning_rate':[.01,.1,.005,1],\n",
        "          'max_features':['sqrt','auto'],\n",
        "          }"
      ],
      "metadata": {
        "id": "VrtCaFxaW4pl"
      },
      "execution_count": null,
      "outputs": []
    },
    {
      "cell_type": "code",
      "source": [
        "gb = GradientBoostingClassifier()\n",
        "\n",
        "clsr = GridSearchCV(gb, params, cv=5)\n",
        "clsr.fit(X,Y)\n",
        "     "
      ],
      "metadata": {
        "id": "HR5gkHlUic6L"
      },
      "execution_count": null,
      "outputs": []
    },
    {
      "cell_type": "code",
      "source": [
        "\n",
        "clsr.best_params_"
      ],
      "metadata": {
        "id": "gp8dU3jIigoM"
      },
      "execution_count": null,
      "outputs": []
    },
    {
      "cell_type": "code",
      "source": [
        "y_pred_train = clsr.best_estimator_.fit(X_train, Y_train).predict(X_train)"
      ],
      "metadata": {
        "id": "xCWMFnThijxW"
      },
      "execution_count": null,
      "outputs": []
    },
    {
      "cell_type": "code",
      "source": [
        "y_pred = clsr.best_estimator_.fit(X_train, Y_train).predict(X_test)"
      ],
      "metadata": {
        "id": "b-udOKqLikaL"
      },
      "execution_count": null,
      "outputs": []
    },
    {
      "cell_type": "code",
      "source": [
        "accuracy_score(Y_train,Y_pred_train)"
      ],
      "metadata": {
        "id": "XeysanJKiroZ"
      },
      "execution_count": null,
      "outputs": []
    },
    {
      "cell_type": "code",
      "source": [
        "\n",
        "accuracy_score(Y_test,Y_pred)"
      ],
      "metadata": {
        "id": "R56mlGjJiyB1"
      },
      "execution_count": null,
      "outputs": []
    },
    {
      "cell_type": "markdown",
      "source": [
        "The overall test accuracy in case of hyperparameter tuning on Gradient Boosting has been decreased by 2%"
      ],
      "metadata": {
        "id": "w1jZ165lCf4O"
      }
    },
    {
      "cell_type": "markdown",
      "source": [
        "#XG Boost"
      ],
      "metadata": {
        "id": "27TRwLK4i5Mf"
      }
    },
    {
      "cell_type": "code",
      "source": [
        "X_train,X_test,Y_train,Y_test= train_test_split(X,Y,test_size=0.2,random_state=42)"
      ],
      "metadata": {
        "id": "9589MzWni4tw"
      },
      "execution_count": null,
      "outputs": []
    },
    {
      "cell_type": "code",
      "source": [
        "clsr = XGBClassifier(n_estimators=300)"
      ],
      "metadata": {
        "id": "LY6sjgYB0gVM"
      },
      "execution_count": null,
      "outputs": []
    },
    {
      "cell_type": "code",
      "source": [
        "clsr.fit(X_train, Y_train)"
      ],
      "metadata": {
        "id": "3BpOWIqO1RY-"
      },
      "execution_count": null,
      "outputs": []
    },
    {
      "cell_type": "code",
      "source": [
        "Y_pred = clsr.predict(X_test)"
      ],
      "metadata": {
        "id": "lz-uRJMl1iwE"
      },
      "execution_count": null,
      "outputs": []
    },
    {
      "cell_type": "code",
      "source": [
        "accuracy_score(Y_test,Y_pred)"
      ],
      "metadata": {
        "id": "ecZb5yem18rp"
      },
      "execution_count": null,
      "outputs": []
    },
    {
      "cell_type": "code",
      "source": [
        "print(classification_report(y_test, y_pred))"
      ],
      "metadata": {
        "id": "Uw_jqZ9zC9d_"
      },
      "execution_count": null,
      "outputs": []
    },
    {
      "cell_type": "markdown",
      "source": [
        "* The overall accuracy score on our test data is 91%.\n",
        "*Prediction accuracy on class 1 (Low Cost) is 100%.\n",
        "*Prediction accuracy on class 2 (Medium Cost) is 85%.\n",
        "*Prediction accuracy on class 3 (High Cost) is 79%.\n",
        "*Prediction accuracy on class 4 (Low Cost) is 100%. \n",
        "*As a result, we can see that the XG Boost Classifier has performed good overall, and best in class 1 & class 4.\n"
      ],
      "metadata": {
        "id": "OcxFmRsZC0t0"
      }
    },
    {
      "cell_type": "code",
      "source": [
        "# Checking the best features using XG Boost\n",
        "feature_importance = pd.DataFrame({'Specs':X.columns,\n",
        "                                   'Score':clsr.feature_importances_}).sort_values(by='Score', ascending=False).reset_index(drop=True)"
      ],
      "metadata": {
        "id": "PF46Woql2Rn_"
      },
      "execution_count": null,
      "outputs": []
    },
    {
      "cell_type": "code",
      "source": [
        "feature_importance.head()"
      ],
      "metadata": {
        "id": "BWOSe1qH24Na"
      },
      "execution_count": null,
      "outputs": []
    },
    {
      "cell_type": "code",
      "source": [
        "fig, ax= plt.subplots(figsize=(15,8))\n",
        "ax = sns.barplot(x=feature_importance['Score'], y=feature_importance['Specs'])\n",
        "plt.show()"
      ],
      "metadata": {
        "id": "71WzEb8D3Cb9"
      },
      "execution_count": null,
      "outputs": []
    },
    {
      "cell_type": "markdown",
      "source": [
        "#Hyperparameter tuning with XG Boost"
      ],
      "metadata": {
        "id": "9sFtm6f14zr4"
      }
    },
    {
      "cell_type": "code",
      "source": [
        "params = {'n_estimators':[300,500,1000],\n",
        "          'learning_rate':[.1,.01,.05,1],\n",
        "          }"
      ],
      "metadata": {
        "id": "MyW01G_w4qa3"
      },
      "execution_count": null,
      "outputs": []
    },
    {
      "cell_type": "code",
      "source": [
        "xgb = XGBClassifier()\n",
        "\n",
        "clsr = GridSearchCV(xgb, params, cv=5)\n",
        "clsr.fit(X,Y)"
      ],
      "metadata": {
        "id": "5cXPDJp-5dpl"
      },
      "execution_count": null,
      "outputs": []
    },
    {
      "cell_type": "code",
      "source": [
        "clsr.best_params_"
      ],
      "metadata": {
        "id": "0k64rVXY-FM3"
      },
      "execution_count": null,
      "outputs": []
    },
    {
      "cell_type": "code",
      "source": [
        "# let's add some other parameters as well\n",
        "params = {'n_estimators':[300],\n",
        "          'learning_rate':[1],\n",
        "          'max_depth':range(3,10,2),\n",
        " 'min_child_weight':range(1,6,2)\n",
        "          }"
      ],
      "metadata": {
        "id": "E2rmicZT-MdG"
      },
      "execution_count": null,
      "outputs": []
    },
    {
      "cell_type": "code",
      "source": [
        "xgb =XGBClassifier()\n",
        "\n",
        "clsr= GridSearchCV(xgb, params, cv=5)\n",
        "clsr.fit(X,Y)"
      ],
      "metadata": {
        "id": "ug5v_zeX-UUp"
      },
      "execution_count": null,
      "outputs": []
    },
    {
      "cell_type": "code",
      "source": [
        "clsr.best_params_"
      ],
      "metadata": {
        "id": "axuodCqM_DLK"
      },
      "execution_count": null,
      "outputs": []
    },
    {
      "cell_type": "code",
      "source": [
        "#add gama \n",
        "params = {'learning_rate':[ 1],\n",
        " 'max_depth': [9],\n",
        " 'min_child_weight': [1],\n",
        " 'n_estimators': [300],\n",
        " 'gamma':[i/10.0 for i in range(0,5)]}"
      ],
      "metadata": {
        "id": "ArFtxLg6_ZBe"
      },
      "execution_count": null,
      "outputs": []
    },
    {
      "cell_type": "code",
      "source": [
        "xgb = XGBClassifier()\n",
        "\n",
        "clsr = GridSearchCV(xgb, params, cv=5)\n",
        "clsr.fit(X,Y)"
      ],
      "metadata": {
        "id": "IDXhGJc5IcfY"
      },
      "execution_count": null,
      "outputs": []
    },
    {
      "cell_type": "code",
      "source": [
        "clsr.best_params_"
      ],
      "metadata": {
        "id": "YBo3e1S2NBmC"
      },
      "execution_count": null,
      "outputs": []
    },
    {
      "cell_type": "code",
      "source": [
        "#add alpha\n",
        "params = {'learning_rate':[ 1],\n",
        " 'max_depth': [9],\n",
        " 'min_child_weight': [1],\n",
        " 'n_estimators': [300],\n",
        " 'gamma':[0],\n",
        " 'reg_alpha':[1e-5, 1e-2, 0.1, 1, 100, 0, 0.001, 0.005, 0.01, 0.05]}\n",
        "     "
      ],
      "metadata": {
        "id": "h_Cw_G5BOTCm"
      },
      "execution_count": null,
      "outputs": []
    },
    {
      "cell_type": "code",
      "source": [
        "xgb = XGBClassifier()\n",
        "\n",
        "clsr = GridSearchCV(xgb, params, cv=5)\n",
        "clsr.fit(X,Y)"
      ],
      "metadata": {
        "id": "K_8mKtKeOev6"
      },
      "execution_count": null,
      "outputs": []
    },
    {
      "cell_type": "code",
      "source": [
        "clsr.best_params_"
      ],
      "metadata": {
        "id": "rySqCH9wQO9i"
      },
      "execution_count": null,
      "outputs": []
    },
    {
      "cell_type": "code",
      "source": [
        "# checking model \n",
        "clsr.best_estimator_"
      ],
      "metadata": {
        "id": "beL5y1d8QWot"
      },
      "execution_count": null,
      "outputs": []
    },
    {
      "cell_type": "code",
      "source": [
        "Y_pred_train = clsr.best_estimator_.fit(X_train,Y_train).predict(X_train)"
      ],
      "metadata": {
        "id": "xUFfwS4fQzPN"
      },
      "execution_count": null,
      "outputs": []
    },
    {
      "cell_type": "code",
      "source": [
        "Y_pred = clsr.best_estimator_.fit(X_train,Y_train).predict(X_test)"
      ],
      "metadata": {
        "id": "R5qXvOoZRAll"
      },
      "execution_count": null,
      "outputs": []
    },
    {
      "cell_type": "code",
      "source": [
        "accuracy_score(Y_train, Y_pred_train)"
      ],
      "metadata": {
        "id": "uXV_fl3ARJxx"
      },
      "execution_count": null,
      "outputs": []
    },
    {
      "cell_type": "code",
      "source": [
        "accuracy_score(Y_test, Y_pred)"
      ],
      "metadata": {
        "id": "Tzse95jaRT_C"
      },
      "execution_count": null,
      "outputs": []
    },
    {
      "cell_type": "code",
      "source": [
        "print(classification_report(Y_test, Y_pred))"
      ],
      "metadata": {
        "id": "-So_6s3TRncf"
      },
      "execution_count": null,
      "outputs": []
    },
    {
      "cell_type": "markdown",
      "source": [
        "Overall accuracy of hyperparameter tuning on XG Boost has also been 91%."
      ],
      "metadata": {
        "id": "06dYbMKPDMwz"
      }
    },
    {
      "cell_type": "markdown",
      "source": [
        "#K-Nearest Neighbours"
      ],
      "metadata": {
        "id": "QE89MqIVR3G-"
      }
    },
    {
      "cell_type": "code",
      "source": [
        "#applying Kneighbours  classifier \n",
        "knn = KNeighborsClassifier(n_neighbors=4)\n",
        "knn.fit(X_train,Y_train)"
      ],
      "metadata": {
        "id": "sbPhdLoIR5zt"
      },
      "execution_count": null,
      "outputs": []
    },
    {
      "cell_type": "code",
      "source": [
        "# Training Score\n",
        "train_score=knn.score(X_train,Y_train)\n",
        "print('KNeighborsClassifier training score:',train_score)"
      ],
      "metadata": {
        "id": "8rHeNx_7TGul"
      },
      "execution_count": null,
      "outputs": []
    },
    {
      "cell_type": "code",
      "source": [
        "# Predictions on the train and test data\n",
        "Y_test_knn=knn.predict(X_test)\n",
        "Y_train_knn=knn.predict(X_train)"
      ],
      "metadata": {
        "id": "oEA3qerxUSSc"
      },
      "execution_count": null,
      "outputs": []
    },
    {
      "cell_type": "code",
      "source": [
        "# Printing the predicted output\n",
        "print(Y_test_knn)\n",
        "     "
      ],
      "metadata": {
        "id": "7_v56OxIUUET"
      },
      "execution_count": null,
      "outputs": []
    },
    {
      "cell_type": "code",
      "source": [
        "test_accu1=accuracy_score(Y_test,Y_test_knn)\n",
        "train_accu1=accuracy_score(Y_train,Y_train_knn)\n",
        "\n",
        "\n",
        "print('Train Accuracy Score:',train_accu1)\n",
        "print('Test Accuracy Score:',test_accu1)"
      ],
      "metadata": {
        "id": "NelkBCl5VWSK"
      },
      "execution_count": null,
      "outputs": []
    },
    {
      "cell_type": "code",
      "source": [
        "# Here, we find the classification report\n",
        "print(classification_report(Y_test,Y_test_knn))"
      ],
      "metadata": {
        "id": "6nzbHevXVsLS"
      },
      "execution_count": null,
      "outputs": []
    },
    {
      "cell_type": "markdown",
      "source": [
        "* The overall accuracy score on our test data is 93%.\n",
        "*Prediction accuracy on class 1 (Low Cost) is 100%.\n",
        "*Prediction accuracy on class 2 (Medium Cost) is 86%.\n",
        "*Prediction accuracy on class 3 (High Cost) is 84%.\n",
        "*Prediction accuracy on class 4 (Low Cost) is 99%. \n",
        "*As a result, we can see that the Gradient Boosting Classifier has performed good overall, and best in class 1."
      ],
      "metadata": {
        "id": "u1xI8xFqDs6x"
      }
    },
    {
      "cell_type": "markdown",
      "source": [
        "#Hyperparameter Tuning for KNN"
      ],
      "metadata": {
        "id": "dz-SF-zKVxj-"
      }
    },
    {
      "cell_type": "code",
      "source": [
        "#Let's find the optimum 'k' value via Grid Search method and run knn model with this 'k'\n",
        "parameters = {'n_neighbors':np.arange(1,30)}\n",
        "knn = KNeighborsClassifier()\n",
        "\n",
        "model = GridSearchCV(knn, parameters, cv=5)\n",
        "model.fit(X_train, Y_train)\n",
        "print('The best value of K is',model.best_params_['n_neighbors'])"
      ],
      "metadata": {
        "id": "nECakiLtV5S3"
      },
      "execution_count": null,
      "outputs": []
    },
    {
      "cell_type": "code",
      "source": [
        "# Fitting the model for k=11\n",
        "model_knn = KNeighborsClassifier(n_neighbors=11)  \n",
        "model_knn.fit(X_train, Y_train)"
      ],
      "metadata": {
        "id": "xdgIvkd-WsY7"
      },
      "execution_count": null,
      "outputs": []
    },
    {
      "cell_type": "code",
      "source": [
        "# Training Score\n",
        "train_score2=model_knn.score(X_train,Y_train)\n",
        "print('KNeighborsClassifier training score:',train_score2)"
      ],
      "metadata": {
        "id": "gttVNp8xW1GA"
      },
      "execution_count": null,
      "outputs": []
    },
    {
      "cell_type": "code",
      "source": [
        "# Predictions on train and test data\n",
        "Y_test_clf1=model_knn.predict(X_test)\n",
        "Y_train_clf1=model_knn.predict(X_train)\n"
      ],
      "metadata": {
        "id": "wOI6IARXXZDJ"
      },
      "execution_count": null,
      "outputs": []
    },
    {
      "cell_type": "code",
      "source": [
        "# Printing the predicted output\n",
        "print(Y_test_clf1)"
      ],
      "metadata": {
        "id": "m6lV91n9XoCN"
      },
      "execution_count": null,
      "outputs": []
    },
    {
      "cell_type": "code",
      "source": [
        "# Confusiton matrix for train and test data\n",
        "cm_train_knnh=confusion_matrix(Y_train,Y_train_clf1)\n",
        "cm_test_knnh=confusion_matrix(Y_test,Y_test_clf1)\n",
        "\n",
        "print( 'Confusion matrix for training set\\n',cm_train_knnh)\n",
        "print( 'Confusion matrix for testing set \\n',cm_test_knnh)"
      ],
      "metadata": {
        "id": "Q4WlQ35MX7rE"
      },
      "execution_count": null,
      "outputs": []
    },
    {
      "cell_type": "code",
      "source": [
        "# Create confusion matrix in tabular form for test data\n",
        "pd.crosstab(Y_test, Y_test_clf1, rownames=['Actual Class'], colnames=['Predicted Class'])"
      ],
      "metadata": {
        "id": "7izcvk2FYGRi"
      },
      "execution_count": null,
      "outputs": []
    },
    {
      "cell_type": "code",
      "source": [
        "# Accuracy scor\n",
        "train_accu2 = accuracy_score(Y_train,Y_train_clf1)\n",
        "test_accu2= accuracy_score(Y_test,Y_test_clf1)\n",
        "print('train accuracy:', train_accu2)\n",
        "print('test accuracy:', test_accu2)"
      ],
      "metadata": {
        "id": "rzTNs5Z3ZdRs"
      },
      "execution_count": null,
      "outputs": []
    },
    {
      "cell_type": "code",
      "source": [
        "#classification Report\n",
        "print(classification_report(Y_test,Y_test_clf1))"
      ],
      "metadata": {
        "id": "BTDLdc-safDd"
      },
      "execution_count": null,
      "outputs": []
    },
    {
      "cell_type": "markdown",
      "source": [
        "* We have obtained the optimal value of the k after hyperparameter tuning, which is 11.\n",
        "*We got 95 percent training accuracy and 95 percent test accuracy after fine-tuning the hyperparameters."
      ],
      "metadata": {
        "id": "-VysYjmTEr7N"
      }
    },
    {
      "cell_type": "markdown",
      "source": [
        "# **Conclusion**"
      ],
      "metadata": {
        "id": "gCX9965dhzqZ"
      }
    },
    {
      "cell_type": "markdown",
      "source": [
        "Write the conclusion here."
      ],
      "metadata": {
        "id": "Fjb1IsQkh3yE"
      }
    },
    {
      "cell_type": "markdown",
      "source": [
        "### ***Hurrah! You have successfully completed your Machine Learning Capstone Project !!!***"
      ],
      "metadata": {
        "id": "gIfDvo9L0UH2"
      }
    }
  ]
}